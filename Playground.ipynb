{
 "cells": [
  {
   "cell_type": "code",
   "execution_count": 11,
   "metadata": {},
   "outputs": [],
   "source": [
    "import PyPDF2\n",
    "import os"
   ]
  },
  {
   "cell_type": "code",
   "execution_count": 9,
   "metadata": {},
   "outputs": [],
   "source": [
    "def extract_pages(input_pdf, output_pdf, pages_to_extract):\n",
    "  with open(input_pdf, 'rb') as file:\n",
    "    pdf_reader = PyPDF2.PdfReader(file)\n",
    "    pdf_writer = PyPDF2.PdfWriter()\n",
    "\n",
    "    for page_number in pages_to_extract:\n",
    "      # PyPDF2 uses 0-based indexing\n",
    "      page = pdf_reader.pages[page_number - 1]\n",
    "      pdf_writer.add_page(page)\n",
    "\n",
    "    with open(output_pdf, 'wb') as output_file:\n",
    "      pdf_writer.write(output_file)"
   ]
  },
  {
   "cell_type": "code",
   "execution_count": 17,
   "metadata": {},
   "outputs": [],
   "source": [
    "def extract_pages(input_pdf, page_start, page_end):\n",
    "  with open(input_pdf, 'rb') as file:\n",
    "    pdf_reader = PyPDF2.PdfReader(file)\n",
    "    pdf_writer = PyPDF2.PdfWriter()\n",
    "\n",
    "    for page_number in range(page_start, page_end + 1):\n",
    "      # PyPDF2 uses 0-based indexing\n",
    "      page = pdf_reader.pages[page_number - 1]\n",
    "      pdf_writer.add_page(page)\n",
    "\n",
    "    file_name, file_extension = os.path.splitext(os.path.basename(input_pdf))\n",
    "    output_pdf = f\"PAGES_{page_start}_{page_end}_{file_name}{file_extension}\"\n",
    "\n",
    "    with open(output_pdf, 'wb') as output_file:\n",
    "      pdf_writer.write(output_file)"
   ]
  },
  {
   "cell_type": "code",
   "execution_count": 20,
   "metadata": {},
   "outputs": [],
   "source": [
    "input_pdf_file = \"./Database-System-Concepts-By-Silberschatz.pdf\"\n",
    "page_start = 654\n",
    "page_end = 687\n",
    "\n",
    "extract_pages(input_pdf_file, page_start, page_end)"
   ]
  }
 ],
 "metadata": {
  "kernelspec": {
   "display_name": "Python 3",
   "language": "python",
   "name": "python3"
  },
  "language_info": {
   "codemirror_mode": {
    "name": "ipython",
    "version": 3
   },
   "file_extension": ".py",
   "mimetype": "text/x-python",
   "name": "python",
   "nbconvert_exporter": "python",
   "pygments_lexer": "ipython3",
   "version": "3.12.0"
  }
 },
 "nbformat": 4,
 "nbformat_minor": 2
}
